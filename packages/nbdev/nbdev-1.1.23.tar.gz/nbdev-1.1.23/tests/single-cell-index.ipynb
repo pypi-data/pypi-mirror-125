{
 "cells": [
  {
   "cell_type": "markdown",
   "metadata": {},
   "source": [
    "# Index page with no markdown cells to write to README.md\n",
    "\n",
    "> See: https://github.com/fastai/nbdev/issues/175"
   ]
  }
 ],
 "metadata": {
  "kernelspec": {
   "display_name": "Python 3",
   "language": "python",
   "name": "python3"
  }
 },
 "nbformat": 4,
 "nbformat_minor": 4
}
