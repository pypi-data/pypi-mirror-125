{
 "cells": [
  {
   "cell_type": "code",
   "execution_count": null,
   "id": "informational-central",
   "metadata": {},
   "outputs": [],
   "source": [
    "from fastcore.test import *\n",
    "from fastcore.parallel import *\n",
    "\n",
    "if __name__ == \"__main__\":\n",
    "    inp,exp = range(50),range(1,51)\n",
    "\n",
    "    test_eq(parallel(add_one, inp, n_workers=2, progress=False), exp)\n",
    "    test_eq(parallel(add_one, inp, n_workers=1, a=2), range(2,52))"
   ]
  },
  {
   "cell_type": "code",
   "execution_count": null,
   "id": "developing-darwin",
   "metadata": {},
   "outputs": [],
   "source": []
  }
 ],
 "metadata": {
  "kernelspec": {
   "display_name": "Python 3",
   "language": "python",
   "name": "python3"
  }
 },
 "nbformat": 4,
 "nbformat_minor": 5
}
