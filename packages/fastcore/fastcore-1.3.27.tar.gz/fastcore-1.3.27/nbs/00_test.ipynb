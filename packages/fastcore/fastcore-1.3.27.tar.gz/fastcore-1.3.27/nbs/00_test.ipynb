{
 "cells": [
  {
   "cell_type": "code",
   "execution_count": null,
   "metadata": {},
   "outputs": [],
   "source": [
    "#default_exp test"
   ]
  },
  {
   "cell_type": "code",
   "execution_count": null,
   "metadata": {},
   "outputs": [],
   "source": [
    "#export\n",
    "from fastcore.imports import *\n",
    "from collections import Counter\n",
    "from contextlib import redirect_stdout"
   ]
  },
  {
   "cell_type": "code",
   "execution_count": null,
   "metadata": {},
   "outputs": [],
   "source": [
    "from nbdev.showdoc import *\n",
    "from fastcore.nb_imports import *"
   ]
  },
  {
   "cell_type": "markdown",
   "metadata": {},
   "source": [
    "# Test\n",
    "\n",
    "> Helper functions to quickly write tests in notebooks"
   ]
  },
  {
   "cell_type": "markdown",
   "metadata": {},
   "source": [
    "## Simple test functions"
   ]
  },
  {
   "cell_type": "markdown",
   "metadata": {},
   "source": [
    "We can check that code raises an exception when that's expected (`test_fail`). To test for equality or inequality (with different types of things) we define a simple function `test` that compares two object with a given `cmp` operator."
   ]
  },
  {
   "cell_type": "code",
   "execution_count": null,
   "metadata": {},
   "outputs": [],
   "source": [
    "#export\n",
    "def test_fail(f, msg='', contains='', args=None, kwargs=None):\n",
    "    args, kwargs = args or [], kwargs or {}\n",
    "    \"Fails with `msg` unless `f()` raises an exception and (optionally) has `contains` in `e.args`\"\n",
    "    try: f(*args, **kwargs)\n",
    "    except Exception as e:\n",
    "        assert not contains or contains in str(e)\n",
    "        return\n",
    "    assert False,f\"Expected exception but none raised. {msg}\""
   ]
  },
  {
   "cell_type": "code",
   "execution_count": null,
   "metadata": {},
   "outputs": [],
   "source": [
    "def _fail(): raise Exception(\"foobar\")\n",
    "test_fail(_fail, contains=\"foo\")\n",
    "\n",
    "def _fail(): raise Exception()\n",
    "test_fail(_fail)"
   ]
  },
  {
   "cell_type": "markdown",
   "metadata": {},
   "source": [
    "We can also pass `args` and `kwargs` to function to check if it fails with special inputs."
   ]
  },
  {
   "cell_type": "code",
   "execution_count": null,
   "metadata": {},
   "outputs": [],
   "source": [
    "def _fail_args(a):\n",
    "    if a == 5:\n",
    "        raise ValueError\n",
    "test_fail(_fail_args, args=(5,))\n",
    "test_fail(_fail_args, kwargs=dict(a=5))"
   ]
  },
  {
   "cell_type": "code",
   "execution_count": null,
   "metadata": {},
   "outputs": [],
   "source": [
    "#export\n",
    "def test(a, b, cmp,cname=None):\n",
    "    \"`assert` that `cmp(a,b)`; display inputs and `cname or cmp.__name__` if it fails\"\n",
    "    if cname is None: cname=cmp.__name__\n",
    "    assert cmp(a,b),f\"{cname}:\\n{a}\\n{b}\""
   ]
  },
  {
   "cell_type": "code",
   "execution_count": null,
   "metadata": {},
   "outputs": [],
   "source": [
    "test([1,2],[1,2], operator.eq)\n",
    "test_fail(lambda: test([1,2],[1], operator.eq))\n",
    "test([1,2],[1],   operator.ne)\n",
    "test_fail(lambda: test([1,2],[1,2], operator.ne))"
   ]
  },
  {
   "cell_type": "code",
   "execution_count": null,
   "metadata": {},
   "outputs": [
    {
     "data": {
      "text/markdown": [
       "<h4 id=\"all_equal\" class=\"doc_header\"><code>all_equal</code><a href=\"https://github.com/fastai/fastcore/tree/master/fastcore/imports.py#L30\" class=\"source_link\" style=\"float:right\">[source]</a></h4>\n",
       "\n",
       "> <code>all_equal</code>(**`a`**, **`b`**)\n",
       "\n",
       "Compares whether `a` and `b` are the same length and have the same contents"
      ],
      "text/plain": [
       "<IPython.core.display.Markdown object>"
      ]
     },
     "metadata": {},
     "output_type": "display_data"
    }
   ],
   "source": [
    "show_doc(all_equal)"
   ]
  },
  {
   "cell_type": "code",
   "execution_count": null,
   "metadata": {},
   "outputs": [],
   "source": [
    "test(['abc'], ['abc'],  all_equal)"
   ]
  },
  {
   "cell_type": "code",
   "execution_count": null,
   "metadata": {},
   "outputs": [
    {
     "data": {
      "text/markdown": [
       "<h4 id=\"equals\" class=\"doc_header\"><code>equals</code><a href=\"https://github.com/fastai/fastcore/tree/master/fastcore/imports.py#L56\" class=\"source_link\" style=\"float:right\">[source]</a></h4>\n",
       "\n",
       "> <code>equals</code>(**`a`**, **`b`**)\n",
       "\n",
       "Compares `a` and `b` for equality; supports sublists, tensors and arrays too"
      ],
      "text/plain": [
       "<IPython.core.display.Markdown object>"
      ]
     },
     "metadata": {},
     "output_type": "display_data"
    }
   ],
   "source": [
    "show_doc(equals)"
   ]
  },
  {
   "cell_type": "code",
   "execution_count": null,
   "metadata": {},
   "outputs": [],
   "source": [
    "test([['abc'],['a']], [['abc'],['a']],  equals)"
   ]
  },
  {
   "cell_type": "code",
   "execution_count": null,
   "metadata": {},
   "outputs": [],
   "source": [
    "#export\n",
    "def nequals(a,b):\n",
    "    \"Compares `a` and `b` for `not equals`\"\n",
    "    return not equals(a,b)"
   ]
  },
  {
   "cell_type": "code",
   "execution_count": null,
   "metadata": {},
   "outputs": [],
   "source": [
    "test(['abc'], ['ab' ], nequals)"
   ]
  },
  {
   "cell_type": "markdown",
   "metadata": {},
   "source": [
    "## test_eq test_ne, etc..."
   ]
  },
  {
   "cell_type": "markdown",
   "metadata": {},
   "source": [
    "Just use `test_eq`/`test_ne` to test for `==`/`!=`. `test_eq_type` checks things are equal and of the same type. We define them using `test`:"
   ]
  },
  {
   "cell_type": "code",
   "execution_count": null,
   "metadata": {},
   "outputs": [],
   "source": [
    "#export\n",
    "def test_eq(a,b):\n",
    "    \"`test` that `a==b`\"\n",
    "    test(a,b,equals, '==')"
   ]
  },
  {
   "cell_type": "code",
   "execution_count": null,
   "metadata": {
    "hide_input": false
   },
   "outputs": [],
   "source": [
    "test_eq([1,2],[1,2])\n",
    "test_eq([1,2],map(int,[1,2]))\n",
    "test_eq(array([1,2]),array([1,2]))\n",
    "test_eq(array([1,2]),array([1,2]))\n",
    "test_eq([array([1,2]),3],[array([1,2]),3])\n",
    "test_eq(dict(a=1,b=2), dict(b=2,a=1))\n",
    "test_fail(lambda: test_eq([1,2], 1), contains=\"==\")\n",
    "test_fail(lambda: test_eq(None, np.array([1,2])), contains=\"==\")\n",
    "test_eq({'a', 'b', 'c'}, {'c', 'a', 'b'})"
   ]
  },
  {
   "cell_type": "code",
   "execution_count": null,
   "metadata": {},
   "outputs": [],
   "source": [
    "#hide\n",
    "import pandas as pd\n",
    "import torch"
   ]
  },
  {
   "cell_type": "code",
   "execution_count": null,
   "metadata": {},
   "outputs": [],
   "source": [
    "df1 = pd.DataFrame(dict(a=[1,2],b=['a','b']))\n",
    "df2 = pd.DataFrame(dict(a=[1,2],b=['a','b']))\n",
    "df3 = pd.DataFrame(dict(a=[1,2],b=['a','c']))\n",
    "\n",
    "test_eq(df1,df2)\n",
    "test_eq(df1.a,df2.a)\n",
    "test_fail(lambda: test_eq(df1,df3), contains='==')\n",
    "class T(pd.Series): pass\n",
    "test_eq(df1.iloc[0], T(df2.iloc[0]))"
   ]
  },
  {
   "cell_type": "code",
   "execution_count": null,
   "metadata": {},
   "outputs": [],
   "source": [
    "test_eq(torch.zeros(10), torch.zeros(10, dtype=torch.float64))\n",
    "test_eq(torch.zeros(10), torch.ones(10)-1)\n",
    "test_fail(lambda:test_eq(torch.zeros(10), torch.ones(1, 10)), contains='==')\n",
    "test_eq(torch.zeros(3), [0,0,0])"
   ]
  },
  {
   "cell_type": "code",
   "execution_count": null,
   "metadata": {},
   "outputs": [],
   "source": [
    "#export\n",
    "def test_eq_type(a,b):\n",
    "    \"`test` that `a==b` and are same type\"\n",
    "    test_eq(a,b)\n",
    "    test_eq(type(a),type(b))\n",
    "    if isinstance(a,(list,tuple)): test_eq(map(type,a),map(type,b))"
   ]
  },
  {
   "cell_type": "code",
   "execution_count": null,
   "metadata": {
    "hide_input": false
   },
   "outputs": [],
   "source": [
    "test_eq_type(1,1)\n",
    "test_fail(lambda: test_eq_type(1,1.))\n",
    "test_eq_type([1,1],[1,1])\n",
    "test_fail(lambda: test_eq_type([1,1],(1,1)))\n",
    "test_fail(lambda: test_eq_type([1,1],[1,1.]))"
   ]
  },
  {
   "cell_type": "code",
   "execution_count": null,
   "metadata": {},
   "outputs": [],
   "source": [
    "#export\n",
    "def test_ne(a,b):\n",
    "    \"`test` that `a!=b`\"\n",
    "    test(a,b,nequals,'!=')"
   ]
  },
  {
   "cell_type": "code",
   "execution_count": null,
   "metadata": {
    "hide_input": false
   },
   "outputs": [],
   "source": [
    "test_ne([1,2],[1])\n",
    "test_ne([1,2],[1,3])\n",
    "test_ne(array([1,2]),array([1,1]))\n",
    "test_ne(array([1,2]),array([1,1]))\n",
    "test_ne([array([1,2]),3],[array([1,2])])\n",
    "test_ne([3,4],array([3]))\n",
    "test_ne([3,4],array([3,5]))\n",
    "test_ne(dict(a=1,b=2), ['a', 'b'])\n",
    "test_ne(['a', 'b'], dict(a=1,b=2))"
   ]
  },
  {
   "cell_type": "code",
   "execution_count": null,
   "metadata": {},
   "outputs": [],
   "source": [
    "#export\n",
    "def is_close(a,b,eps=1e-5):\n",
    "    \"Is `a` within `eps` of `b`\"\n",
    "    if hasattr(a, '__array__') or hasattr(b,'__array__'):\n",
    "        return (abs(a-b)<eps).all()\n",
    "    if isinstance(a, (Iterable,Generator)) or isinstance(b, (Iterable,Generator)):\n",
    "        return all(abs(a_-b_)<eps for a_,b_ in zip(a,b))\n",
    "    return abs(a-b)<eps"
   ]
  },
  {
   "cell_type": "code",
   "execution_count": null,
   "metadata": {},
   "outputs": [],
   "source": [
    "#export\n",
    "def test_close(a,b,eps=1e-5):\n",
    "    \"`test` that `a` is within `eps` of `b`\"\n",
    "    test(a,b,partial(is_close,eps=eps),'close')"
   ]
  },
  {
   "cell_type": "code",
   "execution_count": null,
   "metadata": {},
   "outputs": [],
   "source": [
    "test_close(1,1.001,eps=1e-2)\n",
    "test_fail(lambda: test_close(1,1.001))\n",
    "test_close([-0.001,1.001], [0.,1.], eps=1e-2)\n",
    "test_close(np.array([-0.001,1.001]), np.array([0.,1.]), eps=1e-2)\n",
    "test_close(array([-0.001,1.001]), array([0.,1.]), eps=1e-2)"
   ]
  },
  {
   "cell_type": "code",
   "execution_count": null,
   "metadata": {},
   "outputs": [],
   "source": [
    "#export\n",
    "def test_is(a,b):\n",
    "    \"`test` that `a is b`\"\n",
    "    test(a,b,operator.is_, 'is')"
   ]
  },
  {
   "cell_type": "code",
   "execution_count": null,
   "metadata": {},
   "outputs": [],
   "source": [
    "test_fail(lambda: test_is([1], [1]))\n",
    "a = [1]\n",
    "test_is(a, a)"
   ]
  },
  {
   "cell_type": "code",
   "execution_count": null,
   "metadata": {},
   "outputs": [],
   "source": [
    "#export\n",
    "def test_shuffled(a,b):\n",
    "    \"`test` that `a` and `b` are shuffled versions of the same sequence of items\"\n",
    "    test_ne(a, b)\n",
    "    test_eq(Counter(a), Counter(b))"
   ]
  },
  {
   "cell_type": "code",
   "execution_count": null,
   "metadata": {},
   "outputs": [],
   "source": [
    "a = list(range(50))\n",
    "b = copy(a)\n",
    "random.shuffle(b)\n",
    "test_shuffled(a,b)\n",
    "test_fail(lambda:test_shuffled(a,a))"
   ]
  },
  {
   "cell_type": "code",
   "execution_count": null,
   "metadata": {},
   "outputs": [],
   "source": [
    "a = 'abc'\n",
    "b = 'abcabc'\n",
    "test_fail(lambda:test_shuffled(a,b))"
   ]
  },
  {
   "cell_type": "code",
   "execution_count": null,
   "metadata": {},
   "outputs": [],
   "source": [
    "a = ['a', 42, True] \n",
    "b = [42, True, 'a']\n",
    "test_shuffled(a,b)"
   ]
  },
  {
   "cell_type": "code",
   "execution_count": null,
   "metadata": {},
   "outputs": [],
   "source": [
    "#export\n",
    "def test_stdout(f, exp, regex=False):\n",
    "    \"Test that `f` prints `exp` to stdout, optionally checking as `regex`\"\n",
    "    s = io.StringIO()\n",
    "    with redirect_stdout(s): f()\n",
    "    if regex: assert re.search(exp, s.getvalue()) is not None\n",
    "    else: test_eq(s.getvalue(), f'{exp}\\n' if len(exp) > 0 else '')"
   ]
  },
  {
   "cell_type": "code",
   "execution_count": null,
   "metadata": {},
   "outputs": [],
   "source": [
    "test_stdout(lambda: print('hi'), 'hi')\n",
    "test_fail(lambda: test_stdout(lambda: print('hi'), 'ho'))\n",
    "test_stdout(lambda: 1+1, '')\n",
    "test_stdout(lambda: print('hi there!'), r'^hi.*!$', regex=True)"
   ]
  },
  {
   "cell_type": "code",
   "execution_count": null,
   "metadata": {},
   "outputs": [],
   "source": [
    "#export\n",
    "def test_warns(f, show=False):\n",
    "    with warnings.catch_warnings(record=True) as w:\n",
    "        f()\n",
    "        test_ne(len(w), 0)\n",
    "        if show:\n",
    "            for e in w: print(f\"{e.category}: {e.message}\")"
   ]
  },
  {
   "cell_type": "code",
   "execution_count": null,
   "metadata": {},
   "outputs": [],
   "source": [
    "test_warns(lambda: warnings.warn(\"Oh no!\"), {})\n",
    "test_fail(lambda: test_warns(lambda: 2+2))"
   ]
  },
  {
   "cell_type": "code",
   "execution_count": null,
   "metadata": {},
   "outputs": [
    {
     "name": "stdout",
     "output_type": "stream",
     "text": [
      "<class 'UserWarning'>: Oh no!\n"
     ]
    }
   ],
   "source": [
    "test_warns(lambda: warnings.warn(\"Oh no!\"), show=True)"
   ]
  },
  {
   "cell_type": "code",
   "execution_count": null,
   "metadata": {},
   "outputs": [],
   "source": [
    "#export\n",
    "TEST_IMAGE = 'images/puppy.jpg'"
   ]
  },
  {
   "cell_type": "code",
   "execution_count": null,
   "metadata": {},
   "outputs": [
    {
     "data": {
      "image/png": "[encoded data removed]",
      "text/plain": [
       "<PIL.Image.Image image mode=RGB size=128x128 at 0x186FBA78460>"
      ]
     },
     "execution_count": null,
     "metadata": {},
     "output_type": "execute_result"
    }
   ],
   "source": [
    "im = Image.open(TEST_IMAGE).resize((128,128)); im"
   ]
  },
  {
   "cell_type": "code",
   "execution_count": null,
   "metadata": {},
   "outputs": [],
   "source": [
    "#export\n",
    "TEST_IMAGE_BW = 'images/mnist3.png'"
   ]
  },
  {
   "cell_type": "code",
   "execution_count": null,
   "metadata": {},
   "outputs": [
    {
     "data": {
      "image/png": "[encoded data removed]",
      "text/plain": [
       "<PIL.Image.Image image mode=L size=128x128 at 0x186F83D9FD0>"
      ]
     },
     "execution_count": null,
     "metadata": {},
     "output_type": "execute_result"
    }
   ],
   "source": [
    "im = Image.open(TEST_IMAGE_BW).resize((128,128)); im"
   ]
  },
  {
   "cell_type": "code",
   "execution_count": null,
   "metadata": {},
   "outputs": [],
   "source": [
    "#export\n",
    "def test_fig_exists(ax):\n",
    "    \"Test there is a figure displayed in `ax`\"\n",
    "    assert ax and len(ax.figure.canvas.tostring_argb())"
   ]
  },
  {
   "cell_type": "code",
   "execution_count": null,
   "metadata": {},
   "outputs": [
    {
     "data": {
      "image/png": "[encoded data removed]",
      "text/plain": [
       "<Figure size 432x288 with 1 Axes>"
      ]
     },
     "metadata": {
      "needs_background": "light"
     },
     "output_type": "display_data"
    }
   ],
   "source": [
    "fig,ax = plt.subplots()\n",
    "ax.imshow(array(im));"
   ]
  },
  {
   "cell_type": "code",
   "execution_count": null,
   "metadata": {},
   "outputs": [],
   "source": [
    "test_fig_exists(ax)"
   ]
  },
  {
   "cell_type": "code",
   "execution_count": null,
   "metadata": {},
   "outputs": [],
   "source": [
    "#export\n",
    "class ExceptionExpected:\n",
    "    \"Context manager that tests if an exception is raised\"\n",
    "    def __init__(self, ex=Exception, regex=''): self.ex,self.regex = ex,regex\n",
    "    def __enter__(self): pass\n",
    "    def __exit__(self, type, value, traceback): \n",
    "        if not isinstance(value, self.ex) or (self.regex and not re.search(self.regex, f'{value.args}')):\n",
    "            raise TypeError(f\"Expected {self.ex.__name__}({self.regex}) not raised.\")\n",
    "        return True"
   ]
  },
  {
   "cell_type": "code",
   "execution_count": null,
   "metadata": {},
   "outputs": [],
   "source": [
    "def _tst_1(): assert False, \"This is a test\"\n",
    "def _tst_2(): raise SyntaxError\n",
    "\n",
    "with ExceptionExpected(): _tst_1()\n",
    "with ExceptionExpected(ex=AssertionError, regex=\"This is a test\"): _tst_1()\n",
    "with ExceptionExpected(ex=SyntaxError): _tst_2()"
   ]
  },
  {
   "cell_type": "markdown",
   "metadata": {},
   "source": [
    "`exception` is an abbreviation for `ExceptionExpected()`."
   ]
  },
  {
   "cell_type": "code",
   "execution_count": null,
   "metadata": {},
   "outputs": [],
   "source": [
    "#export\n",
    "exception = ExceptionExpected()"
   ]
  },
  {
   "cell_type": "code",
   "execution_count": null,
   "metadata": {},
   "outputs": [],
   "source": [
    "with exception: _tst_1()"
   ]
  },
  {
   "cell_type": "code",
   "execution_count": null,
   "metadata": {},
   "outputs": [],
   "source": [
    "#hide\n",
    "def _f():\n",
    "    with ExceptionExpected(): 1\n",
    "test_fail(partial(_f))\n",
    "\n",
    "def _f():\n",
    "    with ExceptionExpected(SyntaxError): assert False\n",
    "test_fail(partial(_f))\n",
    "\n",
    "def _f():\n",
    "    with ExceptionExpected(AssertionError, \"Yes\"): assert False, \"No\"\n",
    "test_fail(partial(_f))"
   ]
  },
  {
   "cell_type": "markdown",
   "metadata": {},
   "source": [
    "## Export -"
   ]
  },
  {
   "cell_type": "code",
   "execution_count": null,
   "metadata": {},
   "outputs": [
    {
     "name": "stdout",
     "output_type": "stream",
     "text": [
      "Converted 00_test.ipynb.\n",
      "Converted 01_basics.ipynb.\n",
      "Converted 02_foundation.ipynb.\n",
      "Converted 03_xtras.ipynb.\n",
      "Converted 03a_parallel.ipynb.\n",
      "Converted 03b_net.ipynb.\n",
      "Converted 04_dispatch.ipynb.\n",
      "Converted 05_transform.ipynb.\n",
      "Converted 07_meta.ipynb.\n",
      "Converted 08_script.ipynb.\n",
      "Converted index.ipynb.\n"
     ]
    }
   ],
   "source": [
    "#hide\n",
    "from nbdev.export import notebook2script\n",
    "notebook2script()"
   ]
  },
  {
   "cell_type": "code",
   "execution_count": null,
   "metadata": {},
   "outputs": [],
   "source": []
  }
 ],
 "metadata": {
  "jupytext": {
   "split_at_heading": true
  },
  "kernelspec": {
   "display_name": "Python 3",
   "language": "python",
   "name": "python3"
  }
 },
 "nbformat": 4,
 "nbformat_minor": 4
}
