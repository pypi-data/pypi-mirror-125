{
 "cells": [
  {
   "cell_type": "code",
   "execution_count": 1,
   "metadata": {},
   "outputs": [],
   "source": [
    "# default_exp docments"
   ]
  },
  {
   "cell_type": "markdown",
   "metadata": {},
   "source": [
    "# Docments\n",
    "\n",
    "> Document parameters using comments."
   ]
  },
  {
   "cell_type": "code",
   "execution_count": 10,
   "metadata": {},
   "outputs": [],
   "source": [
    "#export\n",
    "from tokenize import tokenize,COMMENT\n",
    "from ast import parse,FunctionDef\n",
    "from io import BytesIO\n",
    "from textwrap import dedent\n",
    "from types import SimpleNamespace\n",
    "from inspect import getsource,isfunction,isclass,signature,Parameter\n",
    "from fastcore.basics import *\n",
    "\n",
    "import re"
   ]
  },
  {
   "cell_type": "code",
   "execution_count": 11,
   "metadata": {},
   "outputs": [],
   "source": [
    "#hide\n",
    "from nbdev.showdoc import *"
   ]
  },
  {
   "cell_type": "markdown",
   "metadata": {},
   "source": [
    "`docments` provides programmatic access to comments in function parameters and return types. It can be used to create more developer-friendly documentation, CLI, etc tools."
   ]
  },
  {
   "cell_type": "markdown",
   "metadata": {},
   "source": [
    "## Why?"
   ]
  },
  {
   "cell_type": "markdown",
   "metadata": {},
   "source": [
    "Without docments, if you want to document your parameters, you have to repeat param names in docstrings, since they're already in the function signature. The parameters have to be kept synchronized in the two places as you change your code. Readers of your code have to look back and forth between two places to understand what's happening. So it's more work for you, and for your users.\n",
    "\n",
    "Furthermore, to have parameter documentation formatted nicely without docments, you have to use special magic docstring formatting, often with [odd quirks](https://stackoverflow.com/questions/62167540/why-do-definitions-have-a-space-before-the-colon-in-numpy-docstring-sections), which is a pain to create and maintain, and awkward to read in code. For instance, using [numpy-style documentation](https://numpydoc.readthedocs.io/en/latest/format.html):"
   ]
  },
  {
   "cell_type": "code",
   "execution_count": 12,
   "metadata": {},
   "outputs": [],
   "source": [
    "def add(a:int, b:int=0)->int:\n",
    "    \"\"\"The sum of two numbers.\n",
    "\n",
    "Parameters\n",
    "----------\n",
    "x : int\n",
    "    the 1st number to add\n",
    "y : int\n",
    "    the 2nd number to add (default: 0)\n",
    "\n",
    "Returns\n",
    "-------\n",
    "int\n",
    "    the result of adding `a` to `b`\"\"\"\n",
    "    return a+b"
   ]
  },
  {
   "cell_type": "markdown",
   "metadata": {},
   "source": [
    "By comparison, here's the same thing using docments:"
   ]
  },
  {
   "cell_type": "code",
   "execution_count": 13,
   "metadata": {},
   "outputs": [],
   "source": [
    "def add(\n",
    "    a:int, # the 1st number to add\n",
    "    b=0,   # the 2nd number to add\n",
    ")->int:    # the result of adding `a` to `b`\n",
    "    \"The sum of two numbers.\"\n",
    "    return a+b"
   ]
  },
  {
   "cell_type": "markdown",
   "metadata": {},
   "source": [
    "## Usage"
   ]
  },
  {
   "cell_type": "code",
   "execution_count": 14,
   "metadata": {},
   "outputs": [],
   "source": [
    "#export\n",
    "def _parses(s):\n",
    "    \"Parse Python code in string or function object `s`\"\n",
    "    return parse(dedent(getsource(s) if isfunction(s) else s))\n",
    "\n",
    "def _tokens(s):\n",
    "    \"Tokenize Python code in string or function object `s`\"\n",
    "    if isfunction(s): s = getsource(s)\n",
    "    return tokenize(BytesIO(s.encode('utf-8')).readline)\n",
    "\n",
    "_clean_re = re.compile('^\\s*#(.*)\\s*$')\n",
    "def _clean_comment(s):\n",
    "    res = _clean_re.findall(s)\n",
    "    return res[0] if res else None\n",
    "\n",
    "def _param_locs(s, returns=True):\n",
    "    \"`dict` of parameter line numbers to names\"\n",
    "    body = _parses(s).body\n",
    "    if len(body)!=1or not isinstance(body[0], FunctionDef): return None\n",
    "    defn = body[0]\n",
    "    res = {arg.lineno:arg.arg for arg in defn.args.args}\n",
    "    if returns and defn.returns: res[defn.returns.lineno] = 'return'\n",
    "    return res"
   ]
  },
  {
   "cell_type": "code",
   "execution_count": 15,
   "metadata": {},
   "outputs": [],
   "source": [
    "#export\n",
    "def _get_comment(line, arg, comments, parms):\n",
    "    if line in comments: return comments[line].strip()\n",
    "    line -= 1\n",
    "    res = []\n",
    "    while line and line in comments and line not in parms:\n",
    "        res.append(comments[line])\n",
    "        line -= 1\n",
    "    return dedent('\\n'.join(reversed(res))) if res else None\n",
    "\n",
    "def _get_full(anno, name, default, docs):\n",
    "    if anno==Parameter.empty and default!=Parameter.empty: anno = type(default)\n",
    "    return AttrDict(docment=docs.get(name), anno=anno, default=default)"
   ]
  },
  {
   "cell_type": "code",
   "execution_count": 16,
   "metadata": {},
   "outputs": [],
   "source": [
    "#export\n",
    "def docments(s, full=False, returns=True):\n",
    "    \"`dict` of parameter names to 'docment-style' comments in function or string `s`\"\n",
    "    if isclass(s): s = s.__init__ # Constructor for a class\n",
    "    comments = {o.start[0]:_clean_comment(o.string) for o in _tokens(s) if o.type==COMMENT}\n",
    "    parms = _param_locs(s, returns=returns)\n",
    "    docs = {arg:_get_comment(line, arg, comments, parms) for line,arg in parms.items()}\n",
    "    if not full: return docs\n",
    "\n",
    "    if isinstance(s,str): s = eval(s)\n",
    "    sig = signature(s)\n",
    "    res = {arg:_get_full(p.annotation, p.name, p.default, docs) for arg,p in sig.parameters.items()}\n",
    "    if returns: res['return'] = _get_full(sig.return_annotation, 'return', Parameter.empty, docs)\n",
    "    return res"
   ]
  },
  {
   "cell_type": "markdown",
   "metadata": {},
   "source": [
    "The returned `dict` has parameter names as keys, and comments as values. The return value comment appears in the `return`, unless `returns=False`. Using the `add` definition above, we get:"
   ]
  },
  {
   "cell_type": "code",
   "execution_count": 17,
   "metadata": {},
   "outputs": [
    {
     "data": {
      "text/plain": [
       "{'a': 'the 1st number to add',\n",
       " 'b': 'the 2nd number to add',\n",
       " 'return': 'the result of adding `a` to `b`'}"
      ]
     },
     "execution_count": 17,
     "metadata": {},
     "output_type": "execute_result"
    }
   ],
   "source": [
    "docments(add)"
   ]
  },
  {
   "cell_type": "markdown",
   "metadata": {},
   "source": [
    "This is the same format that `__annotations__` uses in Python."
   ]
  },
  {
   "cell_type": "code",
   "execution_count": 18,
   "metadata": {},
   "outputs": [
    {
     "data": {
      "text/plain": [
       "{'a': int, 'return': int}"
      ]
     },
     "execution_count": 18,
     "metadata": {},
     "output_type": "execute_result"
    }
   ],
   "source": [
    "add.__annotations__"
   ]
  },
  {
   "cell_type": "markdown",
   "metadata": {},
   "source": [
    "Pass `full=True` to get the annotation and default value for each parameter, along with its docment. Note that the type annotation is inferred from the default value, if the annotation is empty and a default is supplied."
   ]
  },
  {
   "cell_type": "code",
   "execution_count": 19,
   "metadata": {},
   "outputs": [
    {
     "data": {
      "text/plain": [
       "{'a': - docment: the 1st number to add\n",
       " - anno: <class 'int'>\n",
       " - default: <class 'inspect._empty'>,\n",
       " 'b': - docment: the 2nd number to add\n",
       " - anno: <class 'int'>\n",
       " - default: 0,\n",
       " 'return': - docment: the result of adding `a` to `b`\n",
       " - anno: <class 'int'>\n",
       " - default: <class 'inspect._empty'>}"
      ]
     },
     "execution_count": 19,
     "metadata": {},
     "output_type": "execute_result"
    }
   ],
   "source": [
    "docments(add, full=True)"
   ]
  },
  {
   "cell_type": "markdown",
   "metadata": {},
   "source": [
    "If you need more space document a parameter, place one or more lines of comments above the parameter, or above the return type. You can mix-and-match these docment styles:"
   ]
  },
  {
   "cell_type": "code",
   "execution_count": 20,
   "metadata": {},
   "outputs": [],
   "source": [
    "def add(\n",
    "    # The first operand\n",
    "    a:int,\n",
    "    # This is the second of the operands to the *addition* operator.\n",
    "    # Note that passing a negative value here is the equivalent of the *subtraction* operator.\n",
    "    b:int,\n",
    ")->int: # The result is calculated using Python's builtin `+` operator.\n",
    "    \"Add `a` to `b`\"\n",
    "    return a+b"
   ]
  },
  {
   "cell_type": "code",
   "execution_count": 21,
   "metadata": {},
   "outputs": [
    {
     "data": {
      "text/plain": [
       "{'a': 'The first operand',\n",
       " 'b': 'This is the second of the operands to the *addition* operator.\\nNote that passing a negative value here is the equivalent of the *subtraction* operator.',\n",
       " 'return': \"The result is calculated using Python's builtin `+` operator.\"}"
      ]
     },
     "execution_count": 21,
     "metadata": {},
     "output_type": "execute_result"
    }
   ],
   "source": [
    "docments(add)"
   ]
  },
  {
   "cell_type": "markdown",
   "metadata": {},
   "source": [
    "You can also use documents with classes and methods:"
   ]
  },
  {
   "cell_type": "code",
   "execution_count": 35,
   "metadata": {},
   "outputs": [],
   "source": [
    "class Adder:\n",
    "    \"An addition calculator\"\n",
    "    def __init__(self,\n",
    "        a:int, # First operand\n",
    "        b:int, # 2nd operand\n",
    "    ): self.a,self.b = a,b\n",
    "    \n",
    "    def calculate(self\n",
    "                 )->int: # Integral result of addition operator\n",
    "        \"Add `a` to `b`\"\n",
    "        return a+b"
   ]
  },
  {
   "cell_type": "code",
   "execution_count": 36,
   "metadata": {},
   "outputs": [
    {
     "data": {
      "text/plain": [
       "({'self': None, 'a': 'First operand', 'b': '2nd operand'},\n",
       " {'self': None, 'return': 'Integral result of addition operator'})"
      ]
     },
     "execution_count": 36,
     "metadata": {},
     "output_type": "execute_result"
    }
   ],
   "source": [
    "docments(Adder),docments(Adder.calculate)"
   ]
  },
  {
   "cell_type": "markdown",
   "metadata": {},
   "source": [
    "## Export -"
   ]
  },
  {
   "cell_type": "code",
   "execution_count": 37,
   "metadata": {},
   "outputs": [
    {
     "name": "stdout",
     "output_type": "stream",
     "text": [
      "Converted 00_test.ipynb.\n",
      "Converted 01_basics.ipynb.\n",
      "Converted 02_foundation.ipynb.\n",
      "Converted 03_xtras.ipynb.\n",
      "Converted 03a_parallel.ipynb.\n",
      "Converted 03b_net.ipynb.\n",
      "Converted 04_dispatch.ipynb.\n",
      "Converted 05_transform.ipynb.\n",
      "Converted 06_docments.ipynb.\n",
      "Converted 07_meta.ipynb.\n",
      "Converted 08_script.ipynb.\n",
      "Converted index.ipynb.\n",
      "Converted parallel_win.ipynb.\n"
     ]
    }
   ],
   "source": [
    "from nbdev.export import notebook2script\n",
    "notebook2script()"
   ]
  },
  {
   "cell_type": "code",
   "execution_count": null,
   "metadata": {},
   "outputs": [],
   "source": []
  }
 ],
 "metadata": {
  "kernelspec": {
   "display_name": "Python 3",
   "language": "python",
   "name": "python3"
  },
  "language_info": {
   "codemirror_mode": {
    "name": "ipython",
    "version": 3
   },
   "file_extension": ".py",
   "mimetype": "text/x-python",
   "name": "python",
   "nbconvert_exporter": "python",
   "pygments_lexer": "ipython3",
   "version": "3.8.10"
  },
  "toc": {
   "base_numbering": 1,
   "nav_menu": {},
   "number_sections": false,
   "sideBar": true,
   "skip_h1_title": true,
   "title_cell": "Table of Contents",
   "title_sidebar": "Contents",
   "toc_cell": false,
   "toc_position": {},
   "toc_section_display": true,
   "toc_window_display": false
  }
 },
 "nbformat": 4,
 "nbformat_minor": 2
}
