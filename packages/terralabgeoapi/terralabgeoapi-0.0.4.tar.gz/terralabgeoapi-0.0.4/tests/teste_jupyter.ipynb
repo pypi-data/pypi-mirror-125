{
 "cells": [
  {
   "cell_type": "code",
   "execution_count": 1,
   "metadata": {},
   "outputs": [],
   "source": [
    "import pandas as pd\n",
    "import json\n",
    "from GeoAPI import dispersion\n",
    "import geopandas as gpd"
   ]
  },
  {
   "cell_type": "code",
   "execution_count": 2,
   "metadata": {},
   "outputs": [],
   "source": [
    "string = open('/home/alanss/ml/Data Analytics - TerraLAB/GeoAPI - library/tests/Emanuel_json.json')\n",
    "type(string)\n",
    "\n",
    "data = json.load(string)"
   ]
  },
  {
   "cell_type": "code",
   "execution_count": 3,
   "metadata": {},
   "outputs": [
    {
     "data": {
      "text/plain": [
       "[{'latitude': 27.5005635,\n",
       "  'longitude': -48.657998,\n",
       "  'GeoAPI': 'herev7',\n",
       "  'end_completo': 'RUA DIREITO, OURO PRETO'}]"
      ]
     },
     "execution_count": 3,
     "metadata": {},
     "output_type": "execute_result"
    }
   ],
   "source": [
    "data.get('data')"
   ]
  },
  {
   "cell_type": "code",
   "execution_count": 4,
   "metadata": {},
   "outputs": [],
   "source": [
    "df = pd.DataFrame(data.get('data'))"
   ]
  },
  {
   "cell_type": "code",
   "execution_count": 5,
   "metadata": {},
   "outputs": [
    {
     "data": {
      "text/html": [
       "<div>\n",
       "<style scoped>\n",
       "    .dataframe tbody tr th:only-of-type {\n",
       "        vertical-align: middle;\n",
       "    }\n",
       "\n",
       "    .dataframe tbody tr th {\n",
       "        vertical-align: top;\n",
       "    }\n",
       "\n",
       "    .dataframe thead th {\n",
       "        text-align: right;\n",
       "    }\n",
       "</style>\n",
       "<table border=\"1\" class=\"dataframe\">\n",
       "  <thead>\n",
       "    <tr style=\"text-align: right;\">\n",
       "      <th></th>\n",
       "      <th>latitude</th>\n",
       "      <th>longitude</th>\n",
       "      <th>GeoAPI</th>\n",
       "      <th>end_completo</th>\n",
       "    </tr>\n",
       "  </thead>\n",
       "  <tbody>\n",
       "    <tr>\n",
       "      <th>0</th>\n",
       "      <td>27.500563</td>\n",
       "      <td>-48.657998</td>\n",
       "      <td>herev7</td>\n",
       "      <td>RUA DIREITO, OURO PRETO</td>\n",
       "    </tr>\n",
       "  </tbody>\n",
       "</table>\n",
       "</div>"
      ],
      "text/plain": [
       "    latitude  longitude  GeoAPI             end_completo\n",
       "0  27.500563 -48.657998  herev7  RUA DIREITO, OURO PRETO"
      ]
     },
     "execution_count": 5,
     "metadata": {},
     "output_type": "execute_result"
    }
   ],
   "source": [
    "df.head()"
   ]
  },
  {
   "cell_type": "code",
   "execution_count": 6,
   "metadata": {},
   "outputs": [],
   "source": [
    "resposta = dispersion.get_dispersion(df,['DistanceFromMean'])"
   ]
  },
  {
   "cell_type": "code",
   "execution_count": 7,
   "metadata": {},
   "outputs": [
    {
     "name": "stdout",
     "output_type": "stream",
     "text": [
      "{\"schema\":{\"fields\":[{\"name\":\"latitude\",\"type\":\"number\"},{\"name\":\"longitude\",\"type\":\"number\"},{\"name\":\"Raio\",\"type\":\"number\"},{\"name\":\"worst_api\",\"type\":\"string\"},{\"name\":\"end_completo\",\"type\":\"string\"}],\"pandas_version\":\"0.20.0\"},\"data\":[{\"latitude\":27.5005635,\"longitude\":-48.657998,\"Raio\":0.0,\"worst_api\":\"herev7\",\"end_completo\":\"RUA DIREITO, OURO PRETO\"}]}\n"
     ]
    }
   ],
   "source": [
    "print(resposta.to_json(orient='table',index = False))\n",
    "\n"
   ]
  },
  {
   "cell_type": "code",
   "execution_count": 8,
   "metadata": {},
   "outputs": [],
   "source": [
    "a = resposta.to_json(orient='table',index = False)"
   ]
  }
 ],
 "metadata": {
  "interpreter": {
   "hash": "e4d99054658a788fdb337800bf4442d137b917b92e3bce33eb3d3c102d3cb0b7"
  },
  "kernelspec": {
   "display_name": "Python 3.9.6 64-bit ('geo_env': conda)",
   "name": "python3"
  },
  "language_info": {
   "codemirror_mode": {
    "name": "ipython",
    "version": 3
   },
   "file_extension": ".py",
   "mimetype": "text/x-python",
   "name": "python",
   "nbconvert_exporter": "python",
   "pygments_lexer": "ipython3",
   "version": "3.9.6"
  },
  "orig_nbformat": 4
 },
 "nbformat": 4,
 "nbformat_minor": 2
}
