{
 "cells": [
  {
   "cell_type": "markdown",
   "metadata": {},
   "source": [
    "# Using the DatasetGradientIMNN\n",
    "With a generative model built in jax for example we can calculate the derivatives of some simulations with which we can use the chain rule to calculate the derivatives of the network outputs with respect to the physical model parameters necessary to fit an IMNN. Furthermore, if the simulations are too numerous or too large to fit into memory or could be accelerated over several devices, we can aggregate the gradients too. This is an expensive operation and should only be used if memory over a single device is really an issue. Note that with a fixed data set for training an IMNN it is important to have a validation set for early stopping. This is because, with a limited training set there *will* be accidental correlations which look like they are due to parameters and the IMNN *will* extract these features. Using a validation set for early stopping makes sure that once all the features in the validation set have been extracted then no extra information can be incorrectly processed.\n",
    "\n",
    "For this example we are going to summaries the unknown mean, $\\mu$, and variance, $\\Sigma$, of $n_{\\bf d}=10$ data points of two 1D random Gaussian field, ${\\bf d}=\\{d_i\\sim\\mathcal{N}(\\mu,\\Sigma)|i\\in[1, n_{\\bf d}]\\}$. This is an interesting problem since we know the likelihood analytically, but it is non-Gaussian\n",
    "$$\\mathcal{L}({\\bf d}|\\mu,\\Sigma) = \\prod_i^{n_{\\bf d}}\\frac{1}{\\sqrt{2\\pi|\\Sigma|}}\\exp\\left[-\\frac{1}{2}\\frac{(d_i-\\mu)^2}{\\Sigma}\\right]$$\n",
    "\n",
    "As well as knowing the likelihood for this problem, we also know what sufficient statistics describe the mean and variance of the data - they are the mean and the variance\n",
    "$$\\frac{1}{n_{\\bf d}}\\sum_i^{n_{\\bf d}}d_i = \\mu\\textrm{  and  }\\frac{1}{n_{\\bf d}-1}\\sum_i^{n_{\\bf d}}(d_i-\\mu)^2=\\Sigma$$\n",
    "What makes this an interesting problem for the IMNN is the fact that the sufficient statistic for the variance is non-linear, i.e. it is a sum of the square of the data, and so linear methods like MOPED would be lossy in terms of information.\n",
    "\n",
    "We can calculate the Fisher information by taking the negative second derivative of the likelihood taking the expectation by inserting the relations for the sufficient statistics, i.e. and examining at the fiducial parameter values\n",
    "$${\\bf F}_{\\alpha\\beta} = -\\left.\\left(\\begin{array}{cc}\\displaystyle-\\frac{n_{\\bf d}}{\\Sigma}&0\\\\0&\\displaystyle-\\frac{n_{\\bf d}}{2\\Sigma^2}\\end{array}\\right)\\right|_{\\Sigma=\\Sigma^{\\textrm{fid}}}.$$\n",
    "\n",
    "Choosing fiducial parameter values of $\\mu^\\textrm{fid}=0$ and $\\Sigma^\\textrm{fid}=1$ we find that the determinant of the Fisher information matrix is $|{\\bf F}_{\\alpha\\beta}|=50$."
   ]
  },
  {
   "cell_type": "code",
   "execution_count": null,
   "metadata": {},
   "outputs": [],
   "source": [
    "from imnn import DatasetGradientIMNN\n",
    "\n",
    "from imnn.utils import value_and_jacfwd\n",
    "\n",
    "import jax\n",
    "import jax.numpy as np\n",
    "from jax.experimental import stax, optimizers\n",
    "\n",
    "import tensorflow as tf"
   ]
  },
  {
   "cell_type": "markdown",
   "metadata": {},
   "source": [
    "We're going to use 1000 summary vectors, with a length of two, at a time to make an estimate of the covariance of network outputs and the derivative of the mean of the network outputs with respect to the two model parameters."
   ]
  },
  {
   "cell_type": "code",
   "execution_count": 2,
   "metadata": {},
   "outputs": [],
   "source": [
    "n_s = 1000\n",
    "n_d = n_s\n",
    "\n",
    "n_params = 2\n",
    "n_summaries = n_params\n",
    "\n",
    "input_shape = (10,)"
   ]
  },
  {
   "cell_type": "markdown",
   "metadata": {},
   "source": [
    "The simulator is simply"
   ]
  },
  {
   "cell_type": "code",
   "execution_count": 3,
   "metadata": {},
   "outputs": [],
   "source": [
    "def simulator(key, θ):\n",
    "    return θ[0] + jax.random.normal(key, shape=input_shape) * np.sqrt(θ[1])"
   ]
  },
  {
   "cell_type": "markdown",
   "metadata": {},
   "source": [
    "Our fiducial parameter values are $\\mu^\\textrm{fid}=0$ and $\\Sigma^\\textrm{fid}=1$. We will vary these values by $\\delta\\mu=0.1$ and $\\delta\\Sigma=0.1$."
   ]
  },
  {
   "cell_type": "code",
   "execution_count": null,
   "metadata": {},
   "outputs": [],
   "source": [
    "θ_fid = np.array([0., 1.])"
   ]
  },
  {
   "cell_type": "markdown",
   "metadata": {},
   "source": [
    "We will use the CPU as the host device and use the GPUs for calculating the summaries."
   ]
  },
  {
   "cell_type": "code",
   "execution_count": 5,
   "metadata": {},
   "outputs": [],
   "source": [
    "host = jax.devices(\"cpu\")[0]\n",
    "devices = jax.devices(\"gpu\")\n",
    "n_devices = len(devices)"
   ]
  },
  {
   "cell_type": "markdown",
   "metadata": {},
   "source": [
    "Now lets say that we know that we can process 100 simulations at a time per device before running out of memory, we therefore can set"
   ]
  },
  {
   "cell_type": "code",
   "execution_count": 6,
   "metadata": {},
   "outputs": [],
   "source": [
    "n_per_device = 100"
   ]
  },
  {
   "cell_type": "markdown",
   "metadata": {},
   "source": [
    "For initialising the neural network a random number generator and we'll grab another for generating the data:"
   ]
  },
  {
   "cell_type": "code",
   "execution_count": 7,
   "metadata": {},
   "outputs": [],
   "source": [
    "rng = jax.random.PRNGKey(10)\n",
    "rng, model_key, data_key = jax.random.split(rng, num=3)"
   ]
  },
  {
   "cell_type": "markdown",
   "metadata": {},
   "source": [
    "We can generate the simulations using:"
   ]
  },
  {
   "cell_type": "code",
   "execution_count": 8,
   "metadata": {},
   "outputs": [],
   "source": [
    "get_sims_and_ders = value_and_jacfwd(simulator, argnums=1)"
   ]
  },
  {
   "cell_type": "markdown",
   "metadata": {},
   "source": [
    "We'll make the keys for each of the simulations for fitting and validation"
   ]
  },
  {
   "cell_type": "code",
   "execution_count": 9,
   "metadata": {},
   "outputs": [],
   "source": [
    "data_keys = np.array(jax.random.split(rng, num=2 * n_s))"
   ]
  },
  {
   "cell_type": "markdown",
   "metadata": {},
   "source": [
    "To best accelerate the aggregation of the gradient calculation the computation is split into two parts, a ``main`` loop which loops through ``n_d`` simulation with its derivative with respect to model parameters, and a ``remaining`` loop of ``n_s - n_d`` iterations, where just simulations are looped through to calculate any other necessary summaries to estimate the covariance. Note this is true even if ``n_s = n_s`` the remaining loop just has zero iterations."
   ]
  },
  {
   "cell_type": "code",
   "execution_count": 10,
   "metadata": {},
   "outputs": [],
   "source": [
    "fiducial, derivative = jax.vmap(get_sims_and_ders)(\n",
    "    data_keys[:n_d], np.repeat(np.expand_dims(θ_fid, 0), n_d, axis=0))\n",
    "\n",
    "remaining = jax.vmap(simulator)(\n",
    "    data_keys[n_d:n_s], \n",
    "    np.repeat(np.expand_dims(θ_fid, 0), n_s - n_d, axis=0))\n",
    "\n",
    "validation_fiducial, validation_derivative = jax.vmap(get_sims_and_ders)(\n",
    "    data_keys[n_s:n_s + n_d], np.repeat(np.expand_dims(θ_fid, 0), n_d, axis=0))\n",
    "\n",
    "validation_remaining = jax.vmap(simulator)(\n",
    "    data_keys[n_s + n_d:], \n",
    "    np.repeat(np.expand_dims(θ_fid, 0), n_s - n_d, axis=0))"
   ]
  },
  {
   "cell_type": "markdown",
   "metadata": {},
   "source": [
    "The datasets *must* be made in a very specific way and this is not currently checked. Any failure to build the dataset in exactly the correct way will cause either failures or errors in the results. If data fits in memory then do consider passing the numpy arrays to ``AggregatedGradientIMNN`` which does all necessary checking. For the ``DatasetlGradientIMNN`` we need a list of datasets over each device which output numpy iterators. This means that we need to reshape the data into the correct shape. So to construct the dataset we'll need to set very particular shapes:"
   ]
  },
  {
   "cell_type": "code",
   "execution_count": 11,
   "metadata": {},
   "outputs": [],
   "source": [
    "batch_shape = (\n",
    "    n_devices, \n",
    "    n_d // (n_devices * n_per_device), \n",
    "    n_per_device) + input_shape\n",
    "\n",
    "remaining_batch_shape = (\n",
    "    n_devices, \n",
    "    (n_s - n_d) // (n_devices * n_per_device), \n",
    "    n_per_device) + input_shape"
   ]
  },
  {
   "cell_type": "markdown",
   "metadata": {},
   "source": [
    "Note that if the reshaping isn't exact then there will be problems, this is avoided if passing directly to ``AggregatedGradientIMNN``, where checking is automatically done. The datasets then must be made using:"
   ]
  },
  {
   "cell_type": "code",
   "execution_count": 12,
   "metadata": {},
   "outputs": [],
   "source": [
    "main = [\n",
    "    tf.data.Dataset.from_tensor_slices(\n",
    "        (fiducial, derivative)).repeat().as_numpy_iterator()\n",
    "    for fiducial, derivative in zip(\n",
    "        fiducial.reshape(batch_shape),\n",
    "        derivative.reshape(batch_shape + (n_params,)))]\n",
    "\n",
    "remaining = [\n",
    "    tf.data.Dataset.from_tensor_slices(fiducial\n",
    "        ).repeat().as_numpy_iterator()\n",
    "    for fiducial in remaining.reshape(\n",
    "        remaining_batch_shape)]\n",
    "\n",
    "validation_main = [\n",
    "    tf.data.Dataset.from_tensor_slices(\n",
    "        (fiducial, derivative)).repeat().as_numpy_iterator()\n",
    "    for fiducial, derivative in zip(\n",
    "        validation_fiducial.reshape(batch_shape),\n",
    "        validation_derivative.reshape(batch_shape + (n_params,)))]\n",
    "\n",
    "validation_remaining = [\n",
    "    tf.data.Dataset.from_tensor_slices(fiducial\n",
    "        ).repeat().as_numpy_iterator()\n",
    "    for fiducial in validation_remaining.reshape(\n",
    "        remaining_batch_shape)]"
   ]
  },
  {
   "cell_type": "markdown",
   "metadata": {},
   "source": [
    "Note that if passing a dataset, very flexible data loading can be performed (as long as it is done carefully). For example, if we saved each simulation and each set of derivatives to numpy files using\n",
    "```python\n",
    "for i, (fid, val_fid, der, val_der) in enumerate(zip(\n",
    "        fiducial, validation_fiducial, derivative, validation_derivative)):\n",
    "    np.save(f\"tmp/fiducial_{i:04d}.npy\", fid)\n",
    "    np.save(f\"tmp/validation_fiducial_{i:04d}.npy\", val_fid)\n",
    "    np.save(f\"tmp/derivative_{i:04d}.npy\", der)\n",
    "    np.save(f\"tmp/validation_derivative_{i:04d}.npy\", val_der)\n",
    "\n",
    "for i, (rem, val_rem) in enumerate(zip(\n",
    "        remaining, validation_remaining)):\n",
    "    np.save(f\"tmp/remaining_{i:04d}.npy\", rem)\n",
    "    np.save(f\"tmp/validation_remaining_{i:04d}.npy\", val_rem)\n",
    "```\n",
    "We could then write the datasets as\n",
    "```python\n",
    "def generator(directory, filename, total):\n",
    "    i = 0\n",
    "    while i < total:\n",
    "        yield np.load(f\"{directory}/{filename}_{i:04d}.npy\")\n",
    "        i += 1\n",
    "        \n",
    "from functools import partial\n",
    "\n",
    "main = [\n",
    "    tf.data.Dataset.zip((\n",
    "         tf.data.Dataset.from_generator(\n",
    "             partial(\n",
    "                 generator, \n",
    "                 \"tmp\", \n",
    "                 \"fiducial\", \n",
    "                 n_d), \n",
    "             tf.float32),\n",
    "        tf.data.Dataset.from_generator(\n",
    "             partial(\n",
    "                 generator, \n",
    "                 \"tmp\", \n",
    "                 \"derivative\", \n",
    "                 n_d), \n",
    "             tf.float32))\n",
    "        ).take(n_d // n_devices\n",
    "        ).batch(n_per_device\n",
    "        ).repeat(\n",
    "        ).as_numpy_iterator()\n",
    "    for _ in range(n_devices)]\n",
    "\n",
    "remaining = [\n",
    "    tf.data.Dataset.from_generator(\n",
    "        partial(\n",
    "            generator, \n",
    "            \"tmp\", \n",
    "            \"remaining\", \n",
    "            n_s - n_d), \n",
    "        tf.float32\n",
    "        ).take((n_s - n_d) // n_devices\n",
    "        ).batch(n_per_device\n",
    "        ).repeat(\n",
    "        ).as_numpy_iterator()\n",
    "    for _ in range(n_devices)]\n",
    "\n",
    "validation_main = [\n",
    "    tf.data.Dataset.zip((\n",
    "         tf.data.Dataset.from_generator(\n",
    "             partial(\n",
    "                 generator, \n",
    "                 \"tmp\", \n",
    "                 \"validation_fiducial\", \n",
    "                 n_d), \n",
    "             tf.float32),\n",
    "        tf.data.Dataset.from_generator(\n",
    "             partial(\n",
    "                 generator, \n",
    "                 \"tmp\", \n",
    "                 \"validation_derivative\", \n",
    "                 n_d), \n",
    "             tf.float32))\n",
    "        ).take(n_d // n_devices\n",
    "        ).batch(n_per_device\n",
    "        ).repeat(\n",
    "        ).as_numpy_iterator()\n",
    "    for _ in range(n_devices)]\n",
    "\n",
    "validation_remaining = [\n",
    "    tf.data.Dataset.from_generator(\n",
    "        partial(\n",
    "            generator, \n",
    "            \"tmp\", \n",
    "            \"validation_remaining\", \n",
    "            n_s - n_d), \n",
    "        tf.float32\n",
    "        ).take((n_s - n_d) // n_devices\n",
    "        ).batch(n_per_device\n",
    "        ).repeat(\n",
    "        ).as_numpy_iterator()\n",
    "    for _ in range(n_devices)]\n",
    "```\n",
    "Of course we can add ``tf.data.Dataset`` functions like ``prefetch`` and ``cache`` if we want too, i.e. \n",
    "```python\n",
    "main = [\n",
    "    tf.data.Dataset.zip((\n",
    "         tf.data.Dataset.from_generator(\n",
    "             partial(\n",
    "                 generator, \n",
    "                 \"tmp\", \n",
    "                 \"fiducial\"), \n",
    "             tf.float32),\n",
    "        tf.data.Dataset.from_generator(\n",
    "             partial(\n",
    "                 generator, \n",
    "                 \"tmp\", \n",
    "                 \"derivative\"), \n",
    "             tf.float32))\n",
    "        ).take(n_d // n_devices\n",
    "        ).batch(n_per_device\n",
    "        ).cache(\n",
    "        ).prefetch(tf.data.AUTOTUNE\n",
    "        ).repeat(\n",
    "        ).as_numpy_iterator()\n",
    "    for _ in range(n_devices)]\n",
    "```\n",
    "etc.\n",
    "\n",
    "This loading will be quite slow because the files need to be opened each time, but we can build TFRecords which are quicker to load. There is a writer able to do the correct format. The TFRecords should be a couple hundred Mb for best flow-through, so we can keep filling the record until this size is reached.\n",
    "\n",
    "```python\n",
    "from imnn import TFRecords\n",
    "\n",
    "record_size = 200 #Mb\n",
    "writer = TFRecords(record_size=record_size)\n",
    "```\n",
    "\n",
    "We need a function which grabs single simulations from an array (or file) to add to the record\n",
    "\n",
    "```python\n",
    "def get_simulation(seed, directory=None, filename=None):\n",
    "    return np.load(f\"{directory}/{filename}_{seed:04d}.npy\")\n",
    "\n",
    "writer.write_record(\n",
    "    n_sims=n_d,\n",
    "    get_simulation=lambda seed: get_simulation(\n",
    "        seed, directory=\"tmp\", filename=\"fiducial\"),\n",
    "    directory=\"tmp\",\n",
    "    filename=\"fiducial\")\n",
    "\n",
    "writer.write_record(\n",
    "    n_sims=n_s - n_d,\n",
    "    get_simulation=lambda seed: get_simulation(\n",
    "        seed, directory=\"tmp\", filename=\"remaining\"),\n",
    "    directory=\"tmp\",\n",
    "    filename=\"remaining\")\n",
    "\n",
    "writer.write_record(\n",
    "    n_sims=n_d,\n",
    "    get_simulation=lambda seed: get_simulation(\n",
    "        seed, directory=\"tmp\", filename=\"derivative\"),\n",
    "    directory=\"tmp\",\n",
    "    filename=\"derivative\")\n",
    "\n",
    "writer.write_record(\n",
    "    n_sims=n_d,\n",
    "    get_simulation=lambda seed: get_simulation(\n",
    "        seed, directory=\"tmp\", filename=\"validation_fiducial\"),\n",
    "    directory=\"tmp\",\n",
    "    filename=\"validation_fiducial\")\n",
    "\n",
    "writer.write_record(\n",
    "    n_sims=n_s - n_d,\n",
    "    get_simulation=lambda seed: get_simulation(\n",
    "        seed, directory=\"tmp\", filename=\"validation_remaining\"),\n",
    "    directory=\"tmp\",\n",
    "    filename=\"validation_remaining\")\n",
    "\n",
    "writer.write_record(\n",
    "    n_sims=n_d,\n",
    "    get_simulation=lambda seed: get_simulation(\n",
    "        seed, directory=\"tmp\", filename=\"validation_derivative\"),\n",
    "    directory=\"tmp\",\n",
    "    filename=\"validation_derivative\")\n",
    "```\n",
    "\n",
    "We can then read these to a dataset using (note the parser from the TFRecords class):\n",
    "\n",
    "```python\n",
    "import glob\n",
    "        \n",
    "main = [\n",
    "    tf.data.Dataset.zip((\n",
    "        tf.data.TFRecordDataset(\n",
    "            sorted(glob.glob(\"tmp/fiducial_*.tfrecords\")),\n",
    "            num_parallel_reads=1).map(writer.parser),\n",
    "        tf.data.TFRecordDataset(\n",
    "            sorted(glob.glob(\"tmp/derivative_*.tfrecords\")),\n",
    "            num_parallel_reads=1).map(\n",
    "                lambda example: writer.derivative_parser(\n",
    "                    example, n_params=n_params)))\n",
    "        ).take(n_d // n_devices\n",
    "        ).batch(n_per_device\n",
    "        ).repeat(\n",
    "        ).as_numpy_iterator()\n",
    "    for _ in range(n_devices)]\n",
    "\n",
    "remaining = [\n",
    "    tf.data.TFRecordDataset(\n",
    "            sorted(glob.glob(\"tmp/remaining_*.tfrecords\")),\n",
    "            num_parallel_reads=1).map(writer.parser\n",
    "        ).take((n_s - n_d) // n_devices\n",
    "        ).batch(n_per_device\n",
    "        ).repeat(\n",
    "        ).as_numpy_iterator()\n",
    "    for _ in range(n_devices)]\n",
    "\n",
    "validation_main = [\n",
    "    tf.data.Dataset.zip((\n",
    "        tf.data.TFRecordDataset(\n",
    "            sorted(glob.glob(\"tmp/validation_fiducial_*.tfrecords\")),\n",
    "            num_parallel_reads=1).map(writer.parser),\n",
    "        tf.data.TFRecordDataset(\n",
    "            sorted(glob.glob(\"tmp/validation_derivative_*.tfrecords\")),\n",
    "            num_parallel_reads=1).map(\n",
    "                lambda example: writer.derivative_parser(\n",
    "                    example, n_params=n_params)))\n",
    "        ).take(n_d // n_devices\n",
    "        ).batch(n_per_device\n",
    "        ).repeat(\n",
    "        ).as_numpy_iterator()\n",
    "    for _ in range(n_devices)]\n",
    "\n",
    "validation_remaining = [\n",
    "    tf.data.TFRecordDataset(\n",
    "            sorted(glob.glob(\"tmp/validation_remaining_*.tfrecords\")),\n",
    "            num_parallel_reads=1).map(writer.parser\n",
    "        ).take((n_s - n_d) // n_devices\n",
    "        ).batch(n_per_device\n",
    "        ).repeat(\n",
    "        ).as_numpy_iterator()\n",
    "    for _ in range(n_devices)]\n",
    "\n",
    "```"
   ]
  },
  {
   "cell_type": "markdown",
   "metadata": {},
   "source": [
    "We're going to use ``jax``'s stax module to build a simple network with three hidden layers each with 128 neurons and which are activated by leaky relu before outputting the two summaries. The optimiser will be a ``jax`` Adam optimiser with a step size of 0.001."
   ]
  },
  {
   "cell_type": "code",
   "execution_count": 13,
   "metadata": {},
   "outputs": [],
   "source": [
    "model = stax.serial(\n",
    "    stax.Dense(128),\n",
    "    stax.LeakyRelu,\n",
    "    stax.Dense(128),\n",
    "    stax.LeakyRelu,\n",
    "    stax.Dense(128),\n",
    "    stax.LeakyRelu,\n",
    "    stax.Dense(n_summaries))\n",
    "optimiser = optimizers.adam(step_size=1e-3)"
   ]
  },
  {
   "cell_type": "markdown",
   "metadata": {},
   "source": [
    "The DatasetGradientIMNN can now be initialised setting up the network and the fitting routine (as well as the plotting function)"
   ]
  },
  {
   "cell_type": "code",
   "execution_count": 14,
   "metadata": {},
   "outputs": [],
   "source": [
    "imnn = DatasetGradientIMNN(\n",
    "    n_s=n_s, n_d=n_d, n_params=n_params, n_summaries=n_summaries, \n",
    "    input_shape=input_shape, θ_fid=θ_fid, model=model, \n",
    "    optimiser=optimiser, key_or_state=model_key, host=host,\n",
    "    devices=devices, n_per_device=n_per_device,\n",
    "    main=main, remaining=remaining, validation_main=validation_main, \n",
    "    validation_remaining=validation_remaining)"
   ]
  },
  {
   "cell_type": "markdown",
   "metadata": {},
   "source": [
    "To set the scale of the regularisation we use a coupling strength $\\lambda$ whose value should mean that the determinant of the difference between the covariance of network outputs and the identity matrix is larger than the expected initial value of the determinant of the Fisher information matrix from the network. How close to the identity matrix the covariance should be is set by $\\epsilon$. These parameters should not be very important, but they will help with convergence time."
   ]
  },
  {
   "cell_type": "code",
   "execution_count": 15,
   "metadata": {},
   "outputs": [],
   "source": [
    "λ = 10.\n",
    "ϵ = 0.1"
   ]
  },
  {
   "cell_type": "markdown",
   "metadata": {},
   "source": [
    "Fitting can then be done simply by calling:"
   ]
  },
  {
   "cell_type": "code",
   "execution_count": 16,
   "metadata": {},
   "outputs": [
    {
     "data": {
      "application/vnd.jupyter.widget-view+json": {
       "model_id": "c5cbfa1f72254374a0285a23abbb08cb",
       "version_major": 2,
       "version_minor": 0
      },
      "text/plain": [
       "HBox(children=(FloatProgress(value=0.0, max=1000.0), HTML(value='')))"
      ]
     },
     "metadata": {},
     "output_type": "display_data"
    },
    {
     "name": "stdout",
     "output_type": "stream",
     "text": [
      "\n"
     ]
    }
   ],
   "source": [
    "imnn.fit(λ, ϵ, patience=10, max_iterations=1000, print_rate=1)"
   ]
  },
  {
   "cell_type": "markdown",
   "metadata": {},
   "source": [
    "Here we have included a ``print_rate`` for a progress bar, but leaving this out will massively reduce fitting time (at the expense of not knowing how many iterations have been run). The IMNN will be fit for a maximum of ``max_iterations = 1000`` iterations, but with early stopping which can turn on after ``min_iterations = 100`` iterations and after ``patience = 10`` iterations where the maximum determinant of the Fisher information matrix has not increased. ``imnn.w`` is set to the values of the network parameters which obtained the highest value of the determinant of the Fisher information matrix, but the values at the final iteration can be set using ``best = False``.\n",
    "\n",
    "To continue training one can simply rerun fit\n",
    "\n",
    "```python\n",
    "imnn.fit(λ, ϵ, patience=10, max_iterations=1000, print_rate=1)\n",
    "```\n",
    "although we will not run it in this example.\n",
    "\n",
    "To visualise the fitting history we can plot the results:"
   ]
  },
  {
   "cell_type": "code",
   "execution_count": 17,
   "metadata": {},
   "outputs": [
    {
     "data": {
      "image/png": "[encoded data removed]",
      "text/plain": [
       "<Figure size 360x1080 with 4 Axes>"
      ]
     },
     "metadata": {
      "needs_background": "light"
     },
     "output_type": "display_data"
    }
   ],
   "source": [
    "imnn.plot(expected_detF=50);"
   ]
  }
 ],
 "metadata": {
  "kernelspec": {
   "display_name": "Python 3",
   "language": "python",
   "name": "python3"
  },
  "language_info": {
   "codemirror_mode": {
    "name": "ipython",
    "version": 3
   },
   "file_extension": ".py",
   "mimetype": "text/x-python",
   "name": "python",
   "nbconvert_exporter": "python",
   "pygments_lexer": "ipython3",
   "version": "3.7.9"
  }
 },
 "nbformat": 4,
 "nbformat_minor": 4
}
