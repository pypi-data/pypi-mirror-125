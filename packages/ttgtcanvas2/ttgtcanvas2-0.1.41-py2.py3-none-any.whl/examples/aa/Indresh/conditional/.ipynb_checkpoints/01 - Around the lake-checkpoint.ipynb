{
 "cells": [
  {
   "cell_type": "code",
   "execution_count": 1,
   "metadata": {},
   "outputs": [],
   "source": [
    "import worlds.one "
   ]
  },
  {
   "cell_type": "code",
   "execution_count": 7,
   "metadata": {},
   "outputs": [],
   "source": [
    "\n",
    "def check(solve):\n",
    "    maze = worlds.one.generate_maze()\n",
    "    bot = maze.bot()\n",
    "    bot.set_trace('red')\n",
    "    solve(bot)\n",
    "    return maze\n",
    "    "
   ]
  },
  {
   "cell_type": "code",
   "execution_count": 8,
   "metadata": {},
   "outputs": [
    {
     "data": {
      "text/html": [
       "<div style='background:#FFFFC8;padding: 10px'> <text style=color:black>['<h1>Around the lake</h1>', '<p>Reeborg loves going for walks, ', 'especially when it is around a lake. ', 'The lakes in Reeborg’s neighborhood ', 'are all different sizes of rectangles, ', 'so Reeborg does not know how many ', 'steps it will take to get back to ', 'the start of walk. ', 'Thankfully, Reeborg happens to be ', 'carrying a banana, which you can ', 'tell Reeborg to <code>put()</code> down at the ', 'start of its walk. ', 'Reeborg knows it’s done walking when ', 'it reaches the banana again.</p>', '<p>Use a <code>while</code> statement ', '(looking for the banana object) ', 'and an <code>if/else</code> to have Reeborg ', 'complete his walking adventure. </p>', '<p>Note: Reeborg cannot use a repeat ', 'statement, since it has no idea of the ', 'dimensions of the lake it is walking around.</p>', '<h3>What you need to know</h3>', '<ul><li>The functions <code>move()</code>, <code>turn_left()</code>, and <code>put()</code>.</li>', '<li>Either the test <code>front_is_clear()</code> or <code>wall_in_front()</code>, and <code>object_here()</code>.</li>', '<li>How to use a <code>while</code> loop and an <code>if/else</code> clause, and the <code>not</code> keyword.</li></ul>', 'DIFFICULTY2', '']</text></div>"
      ],
      "text/plain": [
       "<IPython.core.display.HTML object>"
      ]
     },
     "metadata": {},
     "output_type": "display_data"
    },
    {
     "data": {
      "application/vnd.jupyter.widget-view+json": {
       "model_id": "b7369275bac94786a9d123214011efbc",
       "version_major": 2,
       "version_minor": 0
      },
      "text/plain": [
       "Maze()"
      ]
     },
     "metadata": {},
     "output_type": "display_data"
    },
    {
     "data": {
      "application/vnd.jupyter.widget-view+json": {
       "model_id": "b7369275bac94786a9d123214011efbc",
       "version_major": 2,
       "version_minor": 0
      },
      "text/plain": [
       "Maze(current_call='{\"method_name\": \"remove_object\", \"params\": [1, 2], \"cb\": \"114694\"}')"
      ]
     },
     "metadata": {},
     "output_type": "display_data"
    }
   ],
   "source": [
    "def solve(bot):\n",
    "    while not bot.on_object() and not bot.wall_in_front():\n",
    "        bot.move()\n",
    "        if bot.on_object():\n",
    "            bot.pick()\n",
    "        elif bot.wall_in_front():\n",
    "            bot.turn_left()\n",
    "\n",
    "check(solve)"
   ]
  },
  {
   "cell_type": "code",
   "execution_count": null,
   "metadata": {},
   "outputs": [],
   "source": []
  }
 ],
 "metadata": {
  "kernelspec": {
   "display_name": "Python 3 (system-wide)",
   "language": "python",
   "name": "python3"
  },
  "language_info": {
   "codemirror_mode": {
    "name": "ipython",
    "version": 3
   },
   "file_extension": ".py",
   "mimetype": "text/x-python",
   "name": "python",
   "nbconvert_exporter": "python",
   "pygments_lexer": "ipython3",
   "version": "3.8.5"
  }
 },
 "nbformat": 4,
 "nbformat_minor": 4
}
