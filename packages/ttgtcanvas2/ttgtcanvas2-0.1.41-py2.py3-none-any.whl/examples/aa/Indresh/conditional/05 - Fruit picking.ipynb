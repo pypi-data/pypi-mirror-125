{
 "cells": [
  {
   "cell_type": "code",
   "execution_count": 1,
   "metadata": {},
   "outputs": [],
   "source": [
    "import worlds.five"
   ]
  },
  {
   "cell_type": "code",
   "execution_count": 2,
   "metadata": {},
   "outputs": [],
   "source": [
    "def check(solve):\n",
    "    maze = worlds.five.generate_maze()\n",
    "    bot = maze.bot()\n",
    "    bot.set_trace('red')\n",
    "    solve(bot)\n",
    "    maze.check()\n",
    "    return maze"
   ]
  },
  {
   "cell_type": "code",
   "execution_count": 3,
   "metadata": {},
   "outputs": [
    {
     "data": {
      "application/vnd.jupyter.widget-view+json": {
       "model_id": "1f6849c67f3d4b898db39ab41785d2bd",
       "version_major": 2,
       "version_minor": 0
      },
      "text/plain": [
       "Maze()"
      ]
     },
     "metadata": {},
     "output_type": "display_data"
    },
    {
     "name": "stdout",
     "output_type": "stream",
     "text": [
      "Picking: banana\n",
      "I counted 15 banana\n"
     ]
    },
    {
     "data": {
      "text/html": [
       "<text style=color:green>✓ Report: I counted 15 banana</text>"
      ],
      "text/plain": [
       "<IPython.core.display.HTML object>"
      ]
     },
     "metadata": {},
     "output_type": "display_data"
    }
   ],
   "source": [
    "def turn_right(bot):\n",
    "    bot.turn_left()\n",
    "    bot.turn_left()\n",
    "    bot.turn_left()\n",
    "\n",
    "def move_and_pick(bot, fruit, n = 1):\n",
    "    count = 0\n",
    "    for i in range(n):\n",
    "            bot.move()\n",
    "            if bot.object_here() == fruit:\n",
    "                bot.take()\n",
    "                count += 1\n",
    "    return count\n",
    "\n",
    "    \n",
    "def solve(bot):\n",
    "    fruit_count = 0\n",
    "    fruit_name = None\n",
    "    bot.move(2)\n",
    "    fruit_name = bot.object_here()\n",
    "    print(\"Picking: \" + fruit_name )\n",
    "    bot.turn_left()\n",
    "    bot.move()\n",
    "    for y in range(3):\n",
    "        if bot.object_here() == fruit_name:\n",
    "            bot.take()\n",
    "            fruit_count += 1\n",
    "        fruit_count  += move_and_pick(bot, fruit_name, 6)\n",
    "        turn_right(bot)\n",
    "        fruit_count  += move_and_pick(bot, fruit_name, 1)\n",
    "        turn_right(bot)\n",
    "        \n",
    "        fruit_count  += move_and_pick(bot, fruit_name, 6)\n",
    "        bot.turn_left()\n",
    "        fruit_count  += move_and_pick(bot, fruit_name, 1)\n",
    "        bot.turn_left()\n",
    "\n",
    "        \n",
    "    bot.report(\"I counted {} {}\".format(fruit_count, fruit_name))\n",
    "    print(bot.report)\n",
    "\n",
    "m = check(solve)"
   ]
  },
  {
   "cell_type": "code",
   "execution_count": null,
   "metadata": {},
   "outputs": [],
   "source": []
  }
 ],
 "metadata": {
  "kernelspec": {
   "display_name": "Python 3 (system-wide)",
   "language": "python",
   "name": "python3"
  },
  "language_info": {
   "codemirror_mode": {
    "name": "ipython",
    "version": 3
   },
   "file_extension": ".py",
   "mimetype": "text/x-python",
   "name": "python",
   "nbconvert_exporter": "python",
   "pygments_lexer": "ipython3",
   "version": "3.8.5"
  }
 },
 "nbformat": 4,
 "nbformat_minor": 4
}
