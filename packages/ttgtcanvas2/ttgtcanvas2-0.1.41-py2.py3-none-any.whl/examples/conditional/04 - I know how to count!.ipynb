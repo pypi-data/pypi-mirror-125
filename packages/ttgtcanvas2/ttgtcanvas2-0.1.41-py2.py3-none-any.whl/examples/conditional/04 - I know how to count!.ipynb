{
 "cells": [
  {
   "cell_type": "code",
   "execution_count": 1,
   "metadata": {},
   "outputs": [],
   "source": [
    "import worlds.four"
   ]
  },
  {
   "cell_type": "code",
   "execution_count": 2,
   "metadata": {},
   "outputs": [],
   "source": [
    "def check(solve):\n",
    "    maze = worlds.four.generate_maze()\n",
    "    bot = maze.bot()\n",
    "    bot.set_trace('red')\n",
    "    solve(bot)\n",
    "    maze.check()\n",
    "    return maze"
   ]
  },
  {
   "cell_type": "code",
   "execution_count": 3,
   "metadata": {},
   "outputs": [
    {
     "data": {
      "application/vnd.jupyter.widget-view+json": {
       "model_id": "2c844aab4ab4439c843f0c0f6b329442",
       "version_major": 2,
       "version_minor": 0
      },
      "text/plain": [
       "Maze()"
      ]
     },
     "metadata": {},
     "output_type": "display_data"
    },
    {
     "data": {
      "text/html": [
       "<text style=color:green>✓ 🤔 I counted 14 carrots and 16 apples</text>"
      ],
      "text/plain": [
       "<IPython.core.display.HTML object>"
      ]
     },
     "metadata": {},
     "output_type": "display_data"
    },
    {
     "data": {
      "text/html": [
       "<text style=color:green>✓ Expected: Final Position: 1,1</text>"
      ],
      "text/plain": [
       "<IPython.core.display.HTML object>"
      ]
     },
     "metadata": {},
     "output_type": "display_data"
    },
    {
     "data": {
      "text/html": [
       "<text style=color:green>✓ Expected: I counted 14 carrots and 16 apples</text>"
      ],
      "text/plain": [
       "<IPython.core.display.HTML object>"
      ]
     },
     "metadata": {},
     "output_type": "display_data"
    },
    {
     "data": {
      "application/vnd.jupyter.widget-view+json": {
       "model_id": "2c844aab4ab4439c843f0c0f6b329442",
       "version_major": 2,
       "version_minor": 0
      },
      "text/plain": [
       "Maze(current_call='{\"method_name\": \"set_succes_msg\", \"params\": [\"\\\\ud83c\\\\udf89 Task Completed\"], \"cb\": \"44031…"
      ]
     },
     "metadata": {},
     "output_type": "display_data"
    }
   ],
   "source": [
    "def solve(bot):\n",
    "    carrot = 0\n",
    "    apple = 0\n",
    "    bot.move()\n",
    "    while not bot.at_goal():\n",
    "        obj = bot.object_here()\n",
    "        if obj == \"apple\":\n",
    "            apple +=1\n",
    "        \n",
    "        if obj == \"carrot\":\n",
    "            carrot +=1\n",
    "            \n",
    "        if bot.wall_on_front():\n",
    "            bot.turn_left()\n",
    "            bot.move()\n",
    "        else:\n",
    "            bot.move()\n",
    "    bot.report(\"I counted {} carrots and {} apples\".format(carrot, apple))\n",
    "\n",
    "check(solve)"
   ]
  },
  {
   "cell_type": "code",
   "execution_count": null,
   "metadata": {},
   "outputs": [],
   "source": []
  }
 ],
 "metadata": {
  "kernelspec": {
   "display_name": "Python 3",
   "language": "python",
   "name": "python3"
  },
  "language_info": {
   "codemirror_mode": {
    "name": "ipython",
    "version": 3
   },
   "file_extension": ".py",
   "mimetype": "text/x-python",
   "name": "python",
   "nbconvert_exporter": "python",
   "pygments_lexer": "ipython3",
   "version": "3.8.8"
  }
 },
 "nbformat": 4,
 "nbformat_minor": 4
}
