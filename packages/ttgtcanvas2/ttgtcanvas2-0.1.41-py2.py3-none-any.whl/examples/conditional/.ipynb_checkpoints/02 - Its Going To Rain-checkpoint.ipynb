{
 "cells": [
  {
   "cell_type": "code",
   "execution_count": 8,
   "metadata": {},
   "outputs": [],
   "source": [
    "import worlds.two"
   ]
  },
  {
   "cell_type": "code",
   "execution_count": 9,
   "metadata": {},
   "outputs": [],
   "source": [
    "def check(solve):\n",
    "    maze = worlds.two.generate_maze()\n",
    "    bot = maze.bot()\n",
    "    bot.set_trace('red')\n",
    "    solve(bot)\n",
    "    return maze"
   ]
  },
  {
   "cell_type": "code",
   "execution_count": 10,
   "metadata": {},
   "outputs": [
    {
     "data": {
      "text/html": [
       "<div style='background:#FFFFC8;padding: 10px'> <text style=color:black>[\"<h1>It's Going to Rain</h1>\", \"<p>It's raining hard.  Water is going to come\", \"    in through the open windows (represented by <img src='src/images/east_goal.png'</img>) unless\", '    Reeborg closes them.</p>', '<p>Have Reeborg move <b>around the room</b> and close the windows by using the <code>build_wall()</code>', '    function.</p>', '<p>The size of the room and the location of the windows are always changing.</p>', '<h3>What you need to know</h3>', '', '<ul><li>The functions <code>move()</code>, ', '    <code>turn_left()</code>, and <code>build_wall()</code>.</li>', '<li>The conditions <code>right_is_clear()</code> or <code>wall_on_right()</code>', ' and <code>at_goal()</code></li>', '<li>How to use a <code>while</code> loop and an <code>if</code> statement.</li></ul>', '<p>Windows (missing walls) are always between two walls, all along a single line.', 'There can never be two windows side by side, nor can there be a window at the corner of a room.</p>', 'DIFFICULTY5', '']</text></div>"
      ],
      "text/plain": [
       "<IPython.core.display.HTML object>"
      ]
     },
     "metadata": {},
     "output_type": "display_data"
    },
    {
     "data": {
      "application/vnd.jupyter.widget-view+json": {
       "model_id": "c5588e453ed149369270d3ed2e3556bf",
       "version_major": 2,
       "version_minor": 0
      },
      "text/plain": [
       "Maze()"
      ]
     },
     "metadata": {},
     "output_type": "display_data"
    },
    {
     "data": {
      "application/vnd.jupyter.widget-view+json": {
       "model_id": "c5588e453ed149369270d3ed2e3556bf",
       "version_major": 2,
       "version_minor": 0
      },
      "text/plain": [
       "Maze(current_call='{\"method_name\": \"set_trace\", \"params\": [0, \"red\"], \"cb\": \"751830\"}')"
      ]
     },
     "metadata": {},
     "output_type": "display_data"
    }
   ],
   "source": [
    "def turn_right(bot):\n",
    "    bot.turn_left()\n",
    "    bot.turn_left()\n",
    "    bot.turn_left()\n",
    "    \n",
    "def solve(bot):\n",
    "    bot.move()\n",
    "    turn_right(bot)\n",
    "    bot.move()\n",
    "    print(bot.at_goal())\n",
    "    while not bot.at_goal():\n",
    "        bot.move()\n",
    "        if bot.wall_on_front():\n",
    "            bot.turn_left()\n",
    "        if not bot.wall_on_right():\n",
    "            turn_right(bot)\n",
    "            bot.build_wall()\n",
    "            bot.turn_left()\n",
    "            \n",
    "check(solve)"
   ]
  },
  {
   "cell_type": "code",
   "execution_count": null,
   "metadata": {},
   "outputs": [],
   "source": []
  }
 ],
 "metadata": {
  "kernelspec": {
   "display_name": "Python 3 (system-wide)",
   "language": "python",
   "name": "python3"
  },
  "language_info": {
   "codemirror_mode": {
    "name": "ipython",
    "version": 3
   },
   "file_extension": ".py",
   "mimetype": "text/x-python",
   "name": "python",
   "nbconvert_exporter": "python",
   "pygments_lexer": "ipython3",
   "version": "3.8.5"
  }
 },
 "nbformat": 4,
 "nbformat_minor": 4
}
